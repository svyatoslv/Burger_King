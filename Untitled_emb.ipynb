{
 "cells": [
  {
   "cell_type": "markdown",
   "id": "ba741456-5c54-4914-9daa-c79aeba92cbd",
   "metadata": {},
   "source": [
    "# "
   ]
  },
  {
   "cell_type": "code",
   "execution_count": null,
   "id": "7fca80ae-ad1a-407f-a49f-2aba97b21b1c",
   "metadata": {},
   "outputs": [],
   "source": [
    "# !pip install tensorflow\n",
    "import tensorflow as tf"
   ]
  },
  {
   "cell_type": "code",
   "execution_count": 3,
   "id": "3ba6dc26-4737-42ad-9100-f3611bb7cd08",
   "metadata": {},
   "outputs": [],
   "source": [
    "import pandas as pd\n",
    "import numpy as np\n"
   ]
  },
  {
   "cell_type": "code",
   "execution_count": 4,
   "id": "91a8f2f4-7e3e-45d3-99f2-4282bfc2af4e",
   "metadata": {},
   "outputs": [],
   "source": [
    "df = pd.read_parquet('train_dataset_hackaton2023_train.gzip')"
   ]
  },
  {
   "cell_type": "code",
   "execution_count": 5,
   "id": "4d7e9966-09d4-498a-b0ff-5ce4a0f546ca",
   "metadata": {},
   "outputs": [],
   "source": [
    "# распределение колонк\n",
    "drop_columns = ['group_name', 'startdatetime', 'dish_name']\n",
    "target_columns = ['buy_post', 'date_diff_post']"
   ]
  },
  {
   "cell_type": "code",
   "execution_count": null,
   "id": "4aa774c4-977f-4df7-9d90-19f5daed22ab",
   "metadata": {},
   "outputs": [],
   "source": [
    " "
   ]
  },
  {
   "cell_type": "code",
   "execution_count": 6,
   "id": "eb06b66d-7152-44e5-b9de-85882a9b0a1c",
   "metadata": {},
   "outputs": [],
   "source": [
    "df['startdatetime'] = pd.to_datetime(df['startdatetime'])\n",
    "df['day'] = df['startdatetime'].dt.day\n",
    "df['month'] = df['startdatetime'].dt.month"
   ]
  },
  {
   "cell_type": "code",
   "execution_count": 7,
   "id": "10a0a575-6b11-4e90-8a8c-6c9c1cd102f2",
   "metadata": {},
   "outputs": [],
   "source": [
    "data = pd.read_csv(\"dish_clust.csv\")\n",
    "data = data.drop(columns='Unnamed: 0')\n",
    "data = data.drop(columns='revenue')\n",
    "df = df.merge(data, on='dish_name', how='left')\n",
    "df = pd.get_dummies(df, columns=['cluster'])"
   ]
  },
  {
   "cell_type": "code",
   "execution_count": 8,
   "id": "f4c5dac7-d4f0-4b13-ba57-37bd99d78f71",
   "metadata": {},
   "outputs": [],
   "source": [
    "from sklearn.preprocessing import LabelEncoder\n",
    "df['format_name'] = LabelEncoder().fit_transform(df['format_name'])\n",
    "df = pd.get_dummies(df, columns=['format_name'])"
   ]
  },
  {
   "cell_type": "code",
   "execution_count": 9,
   "id": "857623a9-ef67-48a2-902b-9d99360a4f25",
   "metadata": {},
   "outputs": [],
   "source": [
    "# df = df.drop(columns=drop_columns)"
   ]
  },
  {
   "cell_type": "code",
   "execution_count": 10,
   "id": "d126b6a9-22cb-454a-a79a-6fad95bc5307",
   "metadata": {},
   "outputs": [],
   "source": [
    "df = df.fillna(0)"
   ]
  },
  {
   "cell_type": "code",
   "execution_count": 11,
   "id": "835503e9-2446-4178-9971-f652dca8410d",
   "metadata": {},
   "outputs": [],
   "source": [
    "mini_df = df[['customer_id', 'startdatetime']].drop_duplicates().reset_index()\n",
    "mini_df = mini_df.drop(columns='index')\n",
    "mini_df['сумма заказа'] = df.groupby(['customer_id', 'startdatetime'])['revenue'].sum().reset_index()['revenue']\n",
    "mini_df['заказ'] = df.groupby(['customer_id', 'startdatetime'])['dish_name'].apply(', '.join).reset_index()['dish_name']\n",
    "for i in range(9):\n",
    "    mini_df[f'format_name_{i}'] = df.groupby(['customer_id', 'startdatetime'])[f'format_name_{i}'].mean().reset_index()[f'format_name_{i}']\n",
    "for i in range(16):\n",
    "    mini_df[f'cluster_{i}.0'] = df.groupby(['customer_id', 'startdatetime'])[f'cluster_{i}.0'].sum().reset_index()[f'cluster_{i}.0']"
   ]
  },
  {
   "cell_type": "code",
   "execution_count": 12,
   "id": "db4f011c-a14a-4994-b20f-8b2c3e5b3887",
   "metadata": {},
   "outputs": [],
   "source": [
    "mean_values = df.groupby(['customer_id', 'startdatetime']).agg({'buy_post': 'mean', 'date_diff_post': 'mean'}).reset_index()\n",
    "mini_df = mini_df.merge(mean_values, on=['customer_id', 'startdatetime'], how='left')"
   ]
  },
  {
   "cell_type": "code",
   "execution_count": 12,
   "id": "54bf4e2c-a161-4e31-8a37-7307aed768ac",
   "metadata": {},
   "outputs": [],
   "source": [
    "# версия датасета содержащая в строках все информацию о всех заказах человека\n",
    "micro_df = pd.DataFrame(mini_df['customer_id'])\n",
    "micro_df = micro_df.drop_duplicates().reset_index()\n",
    "micro_df = micro_df.drop(columns='index')\n",
    "micro_df['сумма всех заказов'] = mini_df.groupby('customer_id')['сумма заказа'].sum().reset_index()['сумма заказа']\n",
    "micro_df['все заказы'] = mini_df.groupby('customer_id')['заказ'].apply('; '.join).reset_index()['заказ']\n",
    "for i in range(9):\n",
    "    micro_df[f'format_name_{i}'] = mini_df.groupby('customer_id')[f'format_name_{i}'].sum().reset_index()[f'format_name_{i}']\n",
    "for i in range(16):\n",
    "    micro_df[f'cluster_{i}.0'] = mini_df.groupby('customer_id')[f'cluster_{i}.0'].sum().reset_index()[f'cluster_{i}.0']"
   ]
  },
  {
   "cell_type": "code",
   "execution_count": 13,
   "id": "ea41831b-bf0e-4c63-b8d9-a3c1d0b868fa",
   "metadata": {},
   "outputs": [],
   "source": [
    "micro_df = micro_df.merge(mini_df.groupby('customer_id').agg({'buy_post': 'mean', 'date_diff_post': 'mean'}).reset_index(), on='customer_id', how='left')"
   ]
  },
  {
   "cell_type": "code",
   "execution_count": null,
   "id": "3b09e34a-688b-476a-83a8-cb791f65e57c",
   "metadata": {},
   "outputs": [],
   "source": [
    "\n",
    "\n",
    "\n",
    "\n",
    "\n",
    "\n",
    "\n",
    "\n",
    "\n",
    "\n",
    "\n",
    "\n",
    "\n"
   ]
  },
  {
   "cell_type": "code",
   "execution_count": null,
   "id": "697de201-5160-4777-9573-bf095e59dfe9",
   "metadata": {},
   "outputs": [],
   "source": [
    "from sklearn.model_selection import train_test_split\n",
    "\n",
    "X = mini_df.drop(columns=target_columns)\n",
    "Y = mini_df['buy_post']\n",
    "\n",
    "X_train, X_val, y_train, y_val = train_test_split(X, Y, test_size=0.2, random_state=42)"
   ]
  },
  {
   "cell_type": "code",
   "execution_count": null,
   "id": "e5cd34a1-5e62-4298-a660-876f398fbbab",
   "metadata": {},
   "outputs": [],
   "source": [
    "from catboost import CatBoostClassifier\n",
    "import lightgbm as lgb\n",
    "from xgboost import XGBClassifier\n",
    "from sklearn.ensemble import VotingClassifier\n",
    "cat_model = CatBoostClassifier(iterations = 300, verbose=100)\n",
    "lgb_model = lgb.LGBMClassifier(n_estimators=300, objective = 'binary')\n",
    "xgb_model = XGBClassifier(n_estimators = 300, tree_method='gpu_hist')\n",
    "voit_model = VotingClassifier(estimators=[('Cat', cat_model), ('lgb', lgb_model), ('xgb', xgb_model)], voting='soft')\n",
    "voit_model.fit(train_X.values, train_y.values)"
   ]
  },
  {
   "cell_type": "markdown",
   "id": "e5660771-c564-4b4e-86cd-c10b61d86241",
   "metadata": {},
   "source": [
    "# ембендинги"
   ]
  },
  {
   "cell_type": "code",
   "execution_count": null,
   "id": "c202684d-5af4-47fd-ae04-908c7a6a1d16",
   "metadata": {},
   "outputs": [],
   "source": [
    "import nltk\n",
    "from nltk.tokenize import word_tokenize\n",
    "sentence = ' '.join(micro_df['все заказы'])\n",
    "tokens = word_tokenize(sentence, language='russian')\n",
    "# print(tokens)"
   ]
  },
  {
   "cell_type": "code",
   "execution_count": 17,
   "id": "67b7a4b0-c539-4b3a-9e3a-a4cb0841864d",
   "metadata": {},
   "outputs": [],
   "source": [
    "from gensim.models import Word2Vec\n",
    "model = Word2Vec(tokens, min_count=1)"
   ]
  },
  {
   "cell_type": "code",
   "execution_count": 18,
   "id": "30da34f5-8e9c-4d92-8859-d30799a34b92",
   "metadata": {},
   "outputs": [],
   "source": [
    "text_data = micro_df['все заказы']\n",
    "sentence_embeddings = []\n",
    "for sentence in text_data:\n",
    "    words = sentence.split()\n",
    "    sentence_vectors = []\n",
    "    for word in words:\n",
    "        if word in model.wv:\n",
    "            sentence_vectors.append(model.wv[word])\n",
    "        else:\n",
    "            sentence_vectors.append(np.array([0] * 100))\n",
    "    if sentence_vectors:\n",
    "        sentence_embeddings.append(sum(sentence_vectors) / len(sentence_vectors))"
   ]
  },
  {
   "cell_type": "code",
   "execution_count": null,
   "id": "a7a5526e-69ab-4b3b-aa0d-c2142dfe959b",
   "metadata": {},
   "outputs": [],
   "source": [
    "df = pd.DataFrame(sentence_embeddings, columns = [ f\"cols_n_{i}\" for i in range(100)])\n",
    "df['index'] = np.arange(len(df))\n",
    "micro_df['index'] = np.arange(len(micro_df))"
   ]
  },
  {
   "cell_type": "code",
   "execution_count": 159,
   "id": "01cc1b7d-6bce-4af3-aeb0-96aea32b9bb8",
   "metadata": {},
   "outputs": [],
   "source": [
    "Y = micro_df['buy_post']\n",
    "X = micro_df.drop(columns=['buy_post', 'все заказы', 'date_diff_post'])\n",
    "X = X.drop(columns = 'все заказы')"
   ]
  },
  {
   "cell_type": "code",
   "execution_count": 109,
   "id": "065cd567-2f1d-4674-b01f-39fd35e6225c",
   "metadata": {},
   "outputs": [],
   "source": [
    "X = X.merge(df, on='index')"
   ]
  },
  {
   "cell_type": "code",
   "execution_count": null,
   "id": "2ef9f02f-d4ff-454f-8d0d-cd4ab8952922",
   "metadata": {},
   "outputs": [],
   "source": [
    "X_train, X_test, y_train, y_test = train_test_split(X, Y, test_size=0.2, random_state=42)"
   ]
  },
  {
   "cell_type": "markdown",
   "id": "7c39a63e-3d91-4906-9505-2df4fa85305f",
   "metadata": {},
   "source": [
    "# нейрости и т д"
   ]
  },
  {
   "cell_type": "code",
   "execution_count": null,
   "id": "ad481e4e-e774-4dba-b957-f03910603dc8",
   "metadata": {},
   "outputs": [],
   "source": [
    "from xgboost import XGBClassifier\n",
    "xgb_model = XGBClassifier(n_estimators = 300, tree_method='gpu_hist')\n",
    "xgb_model.fit(X_train, y_train)"
   ]
  },
  {
   "cell_type": "code",
   "execution_count": null,
   "id": "cff222da-c222-40d5-9cb0-62b8038114aa",
   "metadata": {},
   "outputs": [],
   "source": []
  },
  {
   "cell_type": "code",
   "execution_count": 176,
   "id": "daf915e8-1d28-4b44-9aff-d3d06aaacf6d",
   "metadata": {},
   "outputs": [],
   "source": [
    "def block(input_layer, units):\n",
    "    x = Dense(units)(input_layer)\n",
    "    x = BatchNormalization()(x)\n",
    "    x = Activation('relu')(x)\n",
    "    x = Dense(units)(x)\n",
    "    x = BatchNormalization()(x)\n",
    "    x = Add()([x, input_layer])\n",
    "    x = Activation('relu')(x)\n",
    "    return x\n",
    "def build(input_shape, num_classes, num_units=64, num_blocks=4):\n",
    "    input_layer = Input(shape=input_shape)\n",
    "    x = Dense(num_units)(input_layer)\n",
    "    x = BatchNormalization()(x)\n",
    "    x = Activation('relu')(x)\n",
    "    \n",
    "    for i in range(num_blocks):\n",
    "        x = block(x, units=num_units)\n",
    "    \n",
    "    x = Reshape((-1, num_units))(x) # Add this line to reshape the output\n",
    "    \n",
    "    x = GlobalAveragePooling1D()(x)\n",
    "    output_layer = Dense(num_classes, activation='softmax')(x)\n",
    "    model = Model(inputs=input_layer, outputs=output_layer)\n",
    "    \n",
    "    return model"
   ]
  },
  {
   "cell_type": "code",
   "execution_count": null,
   "id": "b9e070e0-e508-400a-b76d-66c214377d45",
   "metadata": {},
   "outputs": [],
   "source": [
    "from sklearn.preprocessing import StandardScaler\n",
    "from tensorflow.keras.models import Model\n",
    "from tensorflow.keras.layers import Input, Dense, BatchNormalization, Activation, Add, GlobalAveragePooling1D, Reshape\n",
    "\n",
    "# Scale the input data\n",
    "scaler = StandardScaler()\n",
    "X_train = scaler.fit_transform(X_train)\n",
    "X_test = scaler.transform(X_test)\n",
    "\n",
    "input_shape = X_train.shape[1:]\n",
    "num_classes = len(np.unique(y_train))\n",
    "model = build(input_shape, num_classes, num_blocks=10)\n",
    "\n",
    "model.compile(optimizer='adam', loss='sparse_categorical_crossentropy', metrics=['accuracy'])\n",
    "\n",
    "model.fit(X_train, y_train, batch_size=200, epochs=10, validation_data=(X_test, y_test))\n",
    "\n",
    "loss, accuracy = model.evaluate(X_test, y_test)\n",
    "print(f'Test Loss: {loss:.4f}')\n",
    "print(f'Test Accuracy: {accuracy:.4f}')\n"
   ]
  },
  {
   "cell_type": "code",
   "execution_count": null,
   "id": "b47f03bc-7c5b-416e-b7f0-777e07c519a1",
   "metadata": {
    "scrolled": true
   },
   "outputs": [],
   "source": [
    "predictions = model.predict(X_test)\n",
    "predictions = np.argmax(predictions, axis=1)"
   ]
  },
  {
   "cell_type": "code",
   "execution_count": null,
   "id": "c3e02e14-d6fc-4452-a9f7-b55aa3caee02",
   "metadata": {},
   "outputs": [],
   "source": [
    "\n",
    "\n"
   ]
  },
  {
   "cell_type": "code",
   "execution_count": null,
   "id": "5ac73d6d-7229-4e3a-9853-9ed72c8f4e25",
   "metadata": {},
   "outputs": [],
   "source": [
    "from sklearn.metrics import classification_report\n",
    "from sklearn.metrics import f1_score\n",
    "\n",
    "print(classification_report(y_val, predictions))\n",
    "f1_score(y_val, predictions, average='binary')"
   ]
  },
  {
   "cell_type": "code",
   "execution_count": null,
   "id": "49dd2283-150c-4c9f-9e28-9634b08f624e",
   "metadata": {},
   "outputs": [],
   "source": []
  }
 ],
 "metadata": {
  "kernelspec": {
   "display_name": "Python 3 (ipykernel)",
   "language": "python",
   "name": "python3"
  },
  "language_info": {
   "codemirror_mode": {
    "name": "ipython",
    "version": 3
   },
   "file_extension": ".py",
   "mimetype": "text/x-python",
   "name": "python",
   "nbconvert_exporter": "python",
   "pygments_lexer": "ipython3",
   "version": "3.10.2"
  }
 },
 "nbformat": 4,
 "nbformat_minor": 5
}
